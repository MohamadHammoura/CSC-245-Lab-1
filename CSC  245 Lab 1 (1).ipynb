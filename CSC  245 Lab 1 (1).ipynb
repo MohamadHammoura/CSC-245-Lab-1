{
 "cells": [
  {
   "cell_type": "markdown",
   "id": "45ca0616",
   "metadata": {},
   "source": [
    "# Create a rank 2 (2D) array that resembles the matrix below.\n",
    " [[11 12 13 14]\n",
    " [15 16 17 18]]"
   ]
  },
  {
   "cell_type": "code",
   "execution_count": 8,
   "id": "17a633be",
   "metadata": {},
   "outputs": [
    {
     "name": "stdout",
     "output_type": "stream",
     "text": [
      "[[11 12 13 14]\n",
      " [15 16 17 18]]\n"
     ]
    }
   ],
   "source": [
    "my_array = np.array([[11, 12, 13, 14],\n",
    "                     [15, 16, 17, 18]])\n",
    "print(my_array)\n"
   ]
  },
  {
   "cell_type": "markdown",
   "id": "94ed3ba3",
   "metadata": {},
   "source": [
    "# Create an array with 4 rows and 3 columns of zeros. Your results should look as below:\n",
    "[[0. 0. 0.]\n",
    " [0. 0. 0.]\n",
    " [0. 0. 0.]\n",
    " [0. 0. 0.]]"
   ]
  },
  {
   "cell_type": "code",
   "execution_count": 7,
   "id": "1c848ac3",
   "metadata": {},
   "outputs": [
    {
     "name": "stdout",
     "output_type": "stream",
     "text": [
      "[[0. 0. 0.]\n",
      " [0. 0. 0.]\n",
      " [0. 0. 0.]\n",
      " [0. 0. 0.]]\n"
     ]
    }
   ],
   "source": [
    "\n",
    "\n",
    "my_array = np.zeros((4,3))\n",
    "\n",
    "print(my_array)\n"
   ]
  },
  {
   "cell_type": "markdown",
   "id": "2bdc9103",
   "metadata": {},
   "source": [
    "# Create an array of ones that has 3 rows and 4 columns. Your results should look as below:\n",
    "[[1. 1. 1. 1.]\n",
    "[1. 1. 1. 1.]\n",
    "[1. 1. 1. 1.]]"
   ]
  },
  {
   "cell_type": "code",
   "execution_count": 9,
   "id": "ce1de476",
   "metadata": {},
   "outputs": [
    {
     "name": "stdout",
     "output_type": "stream",
     "text": [
      "[[1. 1. 1. 1.]\n",
      " [1. 1. 1. 1.]\n",
      " [1. 1. 1. 1.]]\n"
     ]
    }
   ],
   "source": [
    "my_array = np.ones((3,4))\n",
    "print(my_array)"
   ]
  },
  {
   "cell_type": "markdown",
   "id": "cb1c7a59",
   "metadata": {},
   "source": [
    "# Create an array containing integers 4 to 13 inclusive. Your results should look as below:\n",
    "[4 5 6 7 8 9 10 11 12 13]"
   ]
  },
  {
   "cell_type": "code",
   "execution_count": 11,
   "id": "ed99f5d0",
   "metadata": {},
   "outputs": [
    {
     "name": "stdout",
     "output_type": "stream",
     "text": [
      "[ 4  5  6  7  8  9 10 11 12 13]\n"
     ]
    }
   ],
   "source": [
    "my_array = np.arange(4,14)\n",
    "print(my_array)"
   ]
  },
  {
   "cell_type": "markdown",
   "id": "9673f5da",
   "metadata": {},
   "source": [
    "#  Create an array containing\n",
    "[0., 1.5, 3., 4.5]"
   ]
  },
  {
   "cell_type": "code",
   "execution_count": 14,
   "id": "c688ec40",
   "metadata": {},
   "outputs": [
    {
     "name": "stdout",
     "output_type": "stream",
     "text": [
      "[0.  1.5 3.  4.5]\n"
     ]
    }
   ],
   "source": [
    "my_array = np.array([0 , 1.5 , 3, 4.5])\n",
    "print(my_array)"
   ]
  },
  {
   "cell_type": "markdown",
   "id": "7b095ab1",
   "metadata": {},
   "source": [
    "# Create a 2 by 2 array containing '4' in each position. Your results should look like this:\n",
    "[[4 4]\n",
    " [4 4]]"
   ]
  },
  {
   "cell_type": "code",
   "execution_count": 16,
   "id": "b06ed40e",
   "metadata": {
    "scrolled": false
   },
   "outputs": [
    {
     "name": "stdout",
     "output_type": "stream",
     "text": [
      "[[4 4]\n",
      " [4 4]]\n"
     ]
    }
   ],
   "source": [
    "my_array = np.array([[4, 4],\n",
    "                     [4, 4]])\n",
    "print(my_array)"
   ]
  },
  {
   "cell_type": "markdown",
   "id": "629cc7bc",
   "metadata": {},
   "source": [
    "#  Create 2 matrices:\n",
    "\n",
    "i. Identity matrix of size 4\n",
    "[[1. 0. 0. 0.]\n",
    " [0. 1. 0. 0.]\n",
    " [0. 0. 1. 0.]\n",
    " [0. 0. 0. 1.]]\n",
    "ii. Diagonal matrix with [10,12] as the diagonals \n",
    "[[10  0]\n",
    " [ 0 12]]\n"
   ]
  },
  {
   "cell_type": "code",
   "execution_count": 19,
   "id": "4b9bc395",
   "metadata": {
    "scrolled": true
   },
   "outputs": [
    {
     "name": "stdout",
     "output_type": "stream",
     "text": [
      "Identity matrix of size 4:\n",
      "[[1. 0. 0. 0.]\n",
      " [0. 1. 0. 0.]\n",
      " [0. 0. 1. 0.]\n",
      " [0. 0. 0. 1.]]\n",
      "\n",
      " diagonal matrix:\n",
      "[[10  0]\n",
      " [ 0 12]]\n"
     ]
    }
   ],
   "source": [
    "identity_matrix = np.eye(4)\n",
    "print(\"Identity matrix of size 4:\")\n",
    "print(identity_matrix)\n",
    "\n",
    "diagonal_matrix = np.diag([10, 12])\n",
    "print(\"\\n diagonal matrix:\")\n",
    "print(diagonal_matrix)\n"
   ]
  },
  {
   "cell_type": "markdown",
   "id": "fc24058a",
   "metadata": {},
   "source": [
    "# Create a 3 by 3 array with random floats in [0, 10]. Your answer may be different because it is random but it should look something like this:\n",
    "[[6.3685612  0.61720883 8.93157783]\n",
    " [3.69927617 5.79879583 7.62145626]\n",
    " [7.21895112 4.02011535 4.48844787]]"
   ]
  },
  {
   "cell_type": "code",
   "execution_count": 26,
   "id": "cfba957a",
   "metadata": {},
   "outputs": [
    {
     "name": "stdout",
     "output_type": "stream",
     "text": [
      "[[0.54134145 8.48279168 3.20156293]\n",
      " [2.25220843 5.48846811 6.99337004]\n",
      " [5.17892526 6.57782482 7.64049556]]\n"
     ]
    }
   ],
   "source": [
    "random_array = np.random.random((3, 3)) * 10\n",
    "\n",
    "print(random_array)\n"
   ]
  },
  {
   "cell_type": "markdown",
   "id": "2d2f3bb0",
   "metadata": {},
   "source": [
    "# Create a 3 by 3 array with random integers in [10, 20]. Your answer may be different because it is random but it should look something like this:\n",
    "[[19 11 13]\n",
    " [10 11 13]\n",
    " [11 14 10]]"
   ]
  },
  {
   "cell_type": "code",
   "execution_count": 27,
   "id": "92b42ee3",
   "metadata": {},
   "outputs": [
    {
     "name": "stdout",
     "output_type": "stream",
     "text": [
      "[[12 11 13]\n",
      " [14 18 17]\n",
      " [15 11 13]]\n"
     ]
    }
   ],
   "source": [
    "random_array = np.random.randint(10, 21, size=(3, 3))\n",
    "\n",
    "print(random_array)\n"
   ]
  },
  {
   "cell_type": "markdown",
   "id": "e6fe40e7",
   "metadata": {},
   "source": [
    "# Use this array for the following practice:\n",
    "myArray = np.array([[11,12,13], [14,15,16], [17,18,19]])\n",
    "\n",
    "# a. Get a subarray of the first row and first 2 columns. Your results should look like this:\n",
    "[11 12]\n",
    " \n",
    "# b. Change all elements in 1st and second row to 0. Your results should look like this:\n",
    "[[ 0  0  0]\n",
    " [ 0  0  0]\n",
    " [17 18 19]]"
   ]
  },
  {
   "cell_type": "code",
   "execution_count": 28,
   "id": "ef8493ea",
   "metadata": {},
   "outputs": [
    {
     "name": "stdout",
     "output_type": "stream",
     "text": [
      "Subarray of the first row and first 2 columns:\n",
      "[[11 12]]\n",
      "\n",
      "Array after changing elements in 1st and second row to 0:\n",
      "[[ 0  0  0]\n",
      " [ 0  0  0]\n",
      " [17 18 19]]\n"
     ]
    }
   ],
   "source": [
    "myArray = np.array([[11,12,13], [14,15,16], [17,18,19]])\n",
    "\n",
    "subarray_a = myArray[:1, :2]\n",
    "print(\"Subarray of the first row and first 2 columns:\")\n",
    "print(subarray_a)\n",
    "\n",
    "myArray[:2, :] = 0\n",
    "print(\"\\nArray after changing elements in 1st and second row to 0:\")\n",
    "print(myArray)\n"
   ]
  },
  {
   "cell_type": "markdown",
   "id": "836ec88d",
   "metadata": {},
   "source": [
    "# Create an array that contains [0,1,2,3,4,5,6,7,8,9,10,11,12,13,14,15,16,17,18,19,20] and reverse the order."
   ]
  },
  {
   "cell_type": "code",
   "execution_count": 6,
   "id": "37fca687",
   "metadata": {},
   "outputs": [
    {
     "name": "stdout",
     "output_type": "stream",
     "text": [
      "[20 19 18 17 16 15 14 13 12 11 10  9  8  7  6  5  4  3  2  1  0]\n"
     ]
    }
   ],
   "source": [
    "my_array = np.arange(21)\n",
    "reverseArray = np.flip(my_array)\n",
    "print(reverseArray)"
   ]
  },
  {
   "cell_type": "markdown",
   "id": "e884c9b7",
   "metadata": {},
   "source": [
    "# Use this array for the following practice: \n",
    "myArray = np.array([[11,12,13], [14,15,16]])\n",
    "\n",
    "Reshape the array to an array with 3 rows. Your results should look like this:\n",
    "[[11 12]\n",
    " [13 14]\n",
    " [15 16]]"
   ]
  },
  {
   "cell_type": "code",
   "execution_count": 7,
   "id": "16b2f8ff",
   "metadata": {},
   "outputs": [
    {
     "name": "stdout",
     "output_type": "stream",
     "text": [
      "[[11 12]\n",
      " [13 14]\n",
      " [15 16]]\n"
     ]
    }
   ],
   "source": [
    "myArray = np.array([[11,12,13], [14,15,16]])\n",
    "\n",
    "reshaped_array = myArray.reshape(3, -1)\n",
    "\n",
    "print(reshaped_array)\n"
   ]
  },
  {
   "cell_type": "markdown",
   "id": "74238ab7",
   "metadata": {},
   "source": [
    "# Use this array for the following practice: \n",
    "myArray = np.arange(10)\n",
    "\n",
    "1. Find the square of every number in array\n",
    "2. Find the square root of every number in array\n",
    "3. Multiply the square of each number in array with its respective square root"
   ]
  },
  {
   "cell_type": "code",
   "execution_count": 11,
   "id": "6702057f",
   "metadata": {},
   "outputs": [
    {
     "name": "stdout",
     "output_type": "stream",
     "text": [
      "Squared array is:  [ 0  1  4  9 16 25 36 49 64 81]\n",
      "\n",
      "Square Root array is:  [0.         1.         1.41421356 1.73205081 2.         2.23606798\n",
      " 2.44948974 2.64575131 2.82842712 3.        ]\n",
      "\n",
      "Squared Array * Square Root Array is:  [  0.           1.           5.65685425  15.58845727  32.\n",
      "  55.90169944  88.18163074 129.64181424 181.01933598 243.        ]\n"
     ]
    }
   ],
   "source": [
    "my_array = np.arange(10)\n",
    "\n",
    "square_array = np.square(my_array)\n",
    "print(\"Squared array is: \", square_array )\n",
    "sqrt_array = np.sqrt(my_array)\n",
    "print(\"\\nSquare Root array is: \", sqrt_array)\n",
    "final_array = square_array * sqrt_array\n",
    "print(\"\\nSquared Array * Square Root Array is: \", final_array)"
   ]
  },
  {
   "cell_type": "markdown",
   "id": "bb1d8b67",
   "metadata": {},
   "source": [
    "# Use this array for the following practice: \n",
    "myArray = np.array([[11,12,13], [14,15,16], [17,18,19]])\n",
    "\n",
    "\n",
    "1. Add a new row of elements containing 20, 21 and 22\n",
    "\n",
    "2. Add a new column of elements containing 30, 40 and 50"
   ]
  },
  {
   "cell_type": "code",
   "execution_count": 16,
   "id": "0808755b",
   "metadata": {},
   "outputs": [
    {
     "name": "stdout",
     "output_type": "stream",
     "text": [
      "Array after adding a new row:\n",
      "[[11 12 13]\n",
      " [14 15 16]\n",
      " [17 18 19]\n",
      " [20 21 22]]\n",
      "\n",
      "Array after adding a new column:\n",
      "[[11 12 13 30]\n",
      " [14 15 16 40]\n",
      " [17 18 19 50]\n",
      " [20 21 22  0]]\n"
     ]
    }
   ],
   "source": [
    "myArray = np.array([[11,12,13], [14,15,16], [17,18,19]])\n",
    "\n",
    "new_row = np.array([[20, 21, 22]])\n",
    "myArray = np.concatenate((myArray, new_row), axis=0)\n",
    "\n",
    "print(\"Array after adding a new row:\")\n",
    "print(myArray)\n",
    "\n",
    "new_column = np.array([[30], [40], [50], [0]])  # Ensure the new column has the same number of rows as the original array\n",
    "myArray = np.concatenate((myArray, new_column), axis=1)\n",
    "\n",
    "print(\"\\nArray after adding a new column:\")\n",
    "print(myArray)\n"
   ]
  },
  {
   "cell_type": "markdown",
   "id": "01ed10b7",
   "metadata": {},
   "source": [
    "# INSERTING ELEMENTS \n",
    "\n",
    "1. Add 1 column of 1 to this array: myArray = np.zeros((2,2))\n",
    "2. Add 2 rows of 2 to the answer from part 1\n",
    "3. Remove the last column\n",
    "4. Remove the last row\n"
   ]
  },
  {
   "cell_type": "code",
   "execution_count": 19,
   "id": "9f012a04",
   "metadata": {},
   "outputs": [
    {
     "name": "stdout",
     "output_type": "stream",
     "text": [
      "Array after adding 1 column of 1:\n",
      "[[0. 0. 1.]\n",
      " [0. 0. 1.]]\n",
      "\n",
      "Array after adding 2 rows of 2:\n",
      "[[0. 0. 1.]\n",
      " [0. 0. 1.]\n",
      " [0. 0. 0.]\n",
      " [0. 0. 0.]]\n",
      "\n",
      "Array after removing the last column:\n",
      "[[0. 0.]\n",
      " [0. 0.]\n",
      " [0. 0.]\n",
      " [0. 0.]]\n",
      "\n",
      "Array after removing the last row:\n",
      "[[0. 0.]\n",
      " [0. 0.]\n",
      " [0. 0.]]\n"
     ]
    }
   ],
   "source": [
    "\n",
    "myArray = np.zeros((2, 2))\n",
    "myArray = np.hstack((myArray, np.ones((2, 1))))\n",
    "\n",
    "print(\"Array after adding 1 column of 1:\")\n",
    "print(myArray)\n",
    "\n",
    "myArray = np.vstack((myArray, np.zeros((2, 3))))\n",
    "print(\"\\nArray after adding 2 rows of 2:\")\n",
    "print(myArray)\n",
    "\n",
    "myArray = myArray[:, :-1]\n",
    "print(\"\\nArray after removing the last column:\")\n",
    "print(myArray)\n",
    "\n",
    "\n",
    "myArray = myArray[:-1, :]\n",
    "print(\"\\nArray after removing the last row:\")\n",
    "print(myArray)\n"
   ]
  },
  {
   "cell_type": "markdown",
   "id": "b4000051",
   "metadata": {},
   "source": [
    "# DELETING ELEMENTS\n",
    "\n",
    "\n",
    "Remove the elements from the middle column of this array:\n",
    "myArray = np.matrix([[1, 2, 3], [4, 5, 6], [9, 8, 7]])\n",
    "\n",
    "Your codes should look like this:\n",
    "[[1 3]\n",
    " [4 6]\n",
    " [9 7]]"
   ]
  },
  {
   "cell_type": "code",
   "execution_count": 20,
   "id": "0b74398d",
   "metadata": {},
   "outputs": [
    {
     "name": "stdout",
     "output_type": "stream",
     "text": [
      "Array after removing the middle column:\n",
      "[[1 3]\n",
      " [4 6]\n",
      " [9 7]]\n"
     ]
    }
   ],
   "source": [
    "myArray = np.matrix([[1, 2, 3], [4, 5, 6], [9, 8, 7]])\n",
    "\n",
    "myArray = np.delete(myArray, 1, axis=1)\n",
    "\n",
    "print(\"Array after removing the middle column:\")\n",
    "print(myArray)\n"
   ]
  },
  {
   "cell_type": "markdown",
   "id": "c784336a",
   "metadata": {},
   "source": [
    "# Replace all odd numbers in the given array with -1\n",
    "\n",
    "Start with:\n",
    "exercise_1 = np.array([0, 1, 2, 3, 4, 5, 6, 7, 8, 9])\n",
    "\n",
    "Desired output:\n",
    "[ 0, -1, 2, -1, 4, -1, 6, -1, 8, -1]"
   ]
  },
  {
   "cell_type": "code",
   "execution_count": 21,
   "id": "9190fbdd",
   "metadata": {},
   "outputs": [
    {
     "name": "stdout",
     "output_type": "stream",
     "text": [
      "[ 0 -1  2 -1  4 -1  6 -1  8 -1]\n"
     ]
    }
   ],
   "source": [
    "exercise_1 = np.array([0, 1, 2, 3, 4, 5, 6, 7, 8, 9])\n",
    "\n",
    "mask = exercise_1 % 2 != 0\n",
    "\n",
    "exercise_1[mask] = -1\n",
    "\n",
    "print(exercise_1)\n"
   ]
  },
  {
   "cell_type": "markdown",
   "id": "60850580",
   "metadata": {},
   "source": [
    "# Convert a 1-D array into a 2-D array with 3 rows\n",
    "\n",
    "Start with:\n",
    "exercise_2 = np.array([0, 1, 2, 3, 4, 5, 6, 7, 8])\n",
    "\n",
    "Desired output:\n",
    "[[ 0, 1, 2]\n",
    "[3, 4, 5]\n",
    "[6, 7, 8]]"
   ]
  },
  {
   "cell_type": "code",
   "execution_count": 22,
   "id": "ad5371e6",
   "metadata": {},
   "outputs": [
    {
     "name": "stdout",
     "output_type": "stream",
     "text": [
      "[[0 1 2]\n",
      " [3 4 5]\n",
      " [6 7 8]]\n"
     ]
    }
   ],
   "source": [
    "exercise_2 = np.array([0, 1, 2, 3, 4, 5, 6, 7, 8])\n",
    "\n",
    "result = exercise_2.reshape(3, -1)\n",
    "\n",
    "print(result)\n"
   ]
  },
  {
   "cell_type": "markdown",
   "id": "e3f04bc1",
   "metadata": {},
   "source": [
    "# Add 202 to all the values in given array\n",
    "\n",
    "Start with:\n",
    "exercise_3 = np.arange(4).reshape(2,-1)\n",
    "\n",
    "Desired output:\n",
    "[[202, 203]\n",
    "[204, 205]]"
   ]
  },
  {
   "cell_type": "code",
   "execution_count": 25,
   "id": "8a0c24b0",
   "metadata": {},
   "outputs": [
    {
     "name": "stdout",
     "output_type": "stream",
     "text": [
      "[[202 203]\n",
      " [204 205]]\n"
     ]
    }
   ],
   "source": [
    "exercise_3 = np.arange(4).reshape(2,-1)\n",
    "\n",
    "result = exercise_3 + 202\n",
    "print(result)"
   ]
  },
  {
   "cell_type": "markdown",
   "id": "b9c60110",
   "metadata": {},
   "source": [
    "# Generate a 1-D array of 10 random integers. Each integer should be a number between 30 and 40 (inclusive)\n",
    "\n",
    "Sample of desired output: \n",
    "[36, 30, 36, 38, 31, 35, 36, 30, 32, 34]"
   ]
  },
  {
   "cell_type": "code",
   "execution_count": 26,
   "id": "bacd0bfc",
   "metadata": {},
   "outputs": [
    {
     "name": "stdout",
     "output_type": "stream",
     "text": [
      "[31 33 38 36 33 31 35 34 40 34]\n"
     ]
    }
   ],
   "source": [
    "random_array = np.random.randint(30, 41, size=10)\n",
    "\n",
    "print(random_array)\n"
   ]
  },
  {
   "cell_type": "markdown",
   "id": "9310e627",
   "metadata": {},
   "source": [
    "# Find the positions of:\n",
    "elements in x where its value is more than its corresponding element in y, and \n",
    "elements in x where its value is equals to its corresponding element in y.\n",
    "\n",
    "Start with these:\n",
    "x = np.array([21, 64, 86, 22, 74, 55, 81, 79, 90, 89]) \n",
    "y = np.array([21, 7, 3, 45, 10, 29, 55, 4, 37, 18])\n",
    "\n",
    "Desired output:\n",
    "(array([1, 2, 4, 5, 6, 7, 8, 9]),) and (array([0]),)"
   ]
  },
  {
   "cell_type": "code",
   "execution_count": 27,
   "id": "0ac00ffd",
   "metadata": {},
   "outputs": [
    {
     "name": "stdout",
     "output_type": "stream",
     "text": [
      "Positions where x > y: (array([1, 2, 4, 5, 6, 7, 8, 9], dtype=int64),)\n",
      "Positions where x == y: (array([0], dtype=int64),)\n"
     ]
    }
   ],
   "source": [
    "x = np.array([21, 64, 86, 22, 74, 55, 81, 79, 90, 89])\n",
    "y = np.array([21, 7, 3, 45, 10, 29, 55, 4, 37, 18])\n",
    "\n",
    "more_than_positions = np.where(x > y)\n",
    "\n",
    "equal_positions = np.where(x == y)\n",
    "\n",
    "print(\"Positions where x > y:\", more_than_positions)\n",
    "print(\"Positions where x == y:\", equal_positions)\n"
   ]
  },
  {
   "cell_type": "markdown",
   "id": "aa6eca30",
   "metadata": {},
   "source": [
    "# Extract the first four columns of this 2-D array\n",
    "Start with this: \n",
    "exercise_6 = np.arange(100).reshape(5,-1)\n",
    " \n",
    "Desired output:\n",
    "[[ 0 1 2 3]\n",
    "[20 21 22 23]\n",
    "[40 41 42 43]\n",
    "[60 61 62 63]\n",
    "[80 81 82 83]]"
   ]
  },
  {
   "cell_type": "code",
   "execution_count": 28,
   "id": "c713299d",
   "metadata": {},
   "outputs": [
    {
     "name": "stdout",
     "output_type": "stream",
     "text": [
      "[[ 0  1  2  3]\n",
      " [20 21 22 23]\n",
      " [40 41 42 43]\n",
      " [60 61 62 63]\n",
      " [80 81 82 83]]\n"
     ]
    }
   ],
   "source": [
    "exercise_6 = np.arange(100).reshape(5, -1)\n",
    "\n",
    "result = exercise_6[:, :4]\n",
    "\n",
    "print(result)\n"
   ]
  }
 ],
 "metadata": {
  "kernelspec": {
   "display_name": "Python 3 (ipykernel)",
   "language": "python",
   "name": "python3"
  },
  "language_info": {
   "codemirror_mode": {
    "name": "ipython",
    "version": 3
   },
   "file_extension": ".py",
   "mimetype": "text/x-python",
   "name": "python",
   "nbconvert_exporter": "python",
   "pygments_lexer": "ipython3",
   "version": "3.11.5"
  }
 },
 "nbformat": 4,
 "nbformat_minor": 5
}
